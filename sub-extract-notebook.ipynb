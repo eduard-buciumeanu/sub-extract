{
 "cells": [
  {
   "cell_type": "code",
   "execution_count": 1,
   "id": "4eeb6ec5-254b-4b8c-b885-0d28d7cb9f45",
   "metadata": {},
   "outputs": [],
   "source": [
    "import os\n",
    "import subprocess\n",
    "import argparse\n",
    "import re"
   ]
  },
  {
   "cell_type": "markdown",
   "id": "8448407d-870f-489e-ac3d-5668615c8a8d",
   "metadata": {},
   "source": [
    "### Extract eng subtitle using ffprobe"
   ]
  },
  {
   "cell_type": "code",
   "execution_count": 2,
   "id": "f93cff4f-7c44-4119-b791-11b4e644b441",
   "metadata": {},
   "outputs": [
    {
     "name": "stdout",
     "output_type": "stream",
     "text": [
      "['ffprobe', '-v', 'error', '-select_streams', 's', '-show_entries', 'stream=index:stream_tags=language', '-of', 'default=noprint_wrappers=1:nokey=1', 'video_file']\n"
     ]
    }
   ],
   "source": [
    "# test block\n",
    "random = 'ffprobe -v error -select_streams s -show_entries stream=index:stream_tags=language -of default=noprint_wrappers=1:nokey=1 video_file'\n",
    "print(f'{random.split()}')"
   ]
  },
  {
   "cell_type": "code",
   "execution_count": 7,
   "id": "3249b864-20a8-4b83-991a-4b7283e54863",
   "metadata": {
    "scrolled": true
   },
   "outputs": [
    {
     "name": "stdout",
     "output_type": "stream",
     "text": [
      "\n"
     ]
    }
   ],
   "source": [
    "video_file = 'D:\\Seeding\\Movies\\Prisoners 2013 1080p BluRay DTS x264-DON.mkv'\n",
    "\n",
    "if not os.path.exists(video_file):\n",
    "    print(\"Error: Video file not found\")\n",
    "\n",
    "command = [\n",
    "    'ffprobe',\n",
    "    '-v', 'error',\n",
    "    '-select_streams', 's',\n",
    "    '-show_entries', 'stream=index:stream_tags=language',\n",
    "    '-of', 'default=noprint_wrappers=1:nokey=1',\n",
    "    video_file\n",
    "]\n",
    "\n",
    "try:\n",
    "    # result = subprocess.run(['ffprobe','-show_streams',video_file], capture_output=True, text=True, check=True)\n",
    "    result = subprocess.run(command, capture_output=True, text=True, check=True)\n",
    "except subprocess.CalledProcessError as e:\n",
    "    print(\"Error: \", e)\n",
    "\n",
    "# print(result.stderr.split('\\n'))\n",
    "print(f'{result.stderr}')"
   ]
  },
  {
   "cell_type": "markdown",
   "id": "bab47714-de8e-4943-bb20-14cde0b6601c",
   "metadata": {},
   "source": [
    "### Parse FFmpeg output to find English subtitle track"
   ]
  },
  {
   "cell_type": "code",
   "execution_count": 8,
   "id": "43f458bf-c0db-4ac8-8c24-7efa7dcdcfd2",
   "metadata": {},
   "outputs": [],
   "source": [
    "subtitle_tracks = []\n",
    "pattern = r'[0-9]+'\n",
    "\n",
    "for line in result.stderr.split('\\n'):\n",
    "    if 'Subtitle' in line:\n",
    "        \n",
    "        parts = line.split(',')\n",
    "        for part in parts:\n",
    "            print(part)\n",
    "            if 'rum' in part.lower():\n",
    "                \n",
    "                match = re.findall(pattern, part.split(':')[1])\n",
    "                print(match)\n",
    "                subtitle_tracks.append(int(match[0]))"
   ]
  },
  {
   "cell_type": "code",
   "execution_count": 5,
   "id": "415a2971-fea5-4553-858e-57237f1df190",
   "metadata": {},
   "outputs": [
    {
     "name": "stdout",
     "output_type": "stream",
     "text": [
      "No English subtitle track found\n"
     ]
    }
   ],
   "source": [
    "if not subtitle_tracks:\n",
    "    print(\"No English subtitle track found\")\n",
    "else:\n",
    "    print(subtitle_tracks)"
   ]
  },
  {
   "cell_type": "markdown",
   "id": "7824716d-37ba-40bd-871f-cf9351394f27",
   "metadata": {},
   "source": [
    "### Extract subtitles from the first English subtitle track found"
   ]
  },
  {
   "cell_type": "code",
   "execution_count": 6,
   "id": "1c8a3cd6-40f8-4ecd-bae7-d519c4ad8a9c",
   "metadata": {},
   "outputs": [
    {
     "ename": "IndexError",
     "evalue": "list index out of range",
     "output_type": "error",
     "traceback": [
      "\u001b[1;31m---------------------------------------------------------------------------\u001b[0m",
      "\u001b[1;31mIndexError\u001b[0m                                Traceback (most recent call last)",
      "Cell \u001b[1;32mIn[6], line 1\u001b[0m\n\u001b[1;32m----> 1\u001b[0m subtitle_track \u001b[38;5;241m=\u001b[39m \u001b[43msubtitle_tracks\u001b[49m\u001b[43m[\u001b[49m\u001b[38;5;241;43m0\u001b[39;49m\u001b[43m]\u001b[49m\n\u001b[0;32m      2\u001b[0m filename, _ \u001b[38;5;241m=\u001b[39m os\u001b[38;5;241m.\u001b[39mpath\u001b[38;5;241m.\u001b[39msplitext(video_file)\n\u001b[0;32m      3\u001b[0m subtitle_file \u001b[38;5;241m=\u001b[39m \u001b[38;5;124mf\u001b[39m\u001b[38;5;124m\"\u001b[39m\u001b[38;5;132;01m{\u001b[39;00mfilename\u001b[38;5;132;01m}\u001b[39;00m\u001b[38;5;124m.srt\u001b[39m\u001b[38;5;124m\"\u001b[39m\n",
      "\u001b[1;31mIndexError\u001b[0m: list index out of range"
     ]
    }
   ],
   "source": [
    "subtitle_track = subtitle_tracks[0]\n",
    "filename, _ = os.path.splitext(video_file)\n",
    "subtitle_file = f\"{filename}.srt\""
   ]
  },
  {
   "cell_type": "markdown",
   "id": "8ecc719a-8fc8-4ac6-a0ac-2868766430a9",
   "metadata": {},
   "source": [
    "### Mock of the full ffmpeg command before actually runnning it"
   ]
  },
  {
   "cell_type": "code",
   "execution_count": null,
   "id": "64efba33-a188-4bfe-8919-0d8cbb1ea932",
   "metadata": {},
   "outputs": [],
   "source": [
    "print(f'ffmpeg -i {video_file} -map 0:s:{subtitle_track} {subtitle_file}')"
   ]
  },
  {
   "cell_type": "markdown",
   "id": "3b0f2ff3-3f48-4592-8120-d473fdb721bd",
   "metadata": {},
   "source": [
    "### Execute FFmpeg command to extract English subtitles"
   ]
  },
  {
   "cell_type": "code",
   "execution_count": null,
   "id": "322ef545-70a9-43ec-a9ce-6deca343880d",
   "metadata": {},
   "outputs": [],
   "source": [
    "try:\n",
    "    subprocess.run(['ffmpeg', '-i', video_file, '-map', f'0:s:{subtitle_track}', subtitle_file], check=True)\n",
    "    print(\"English subtitles extracted successfully\")\n",
    "except subprocess.CalledProcessError as e:\n",
    "    print(f'Error on extracting subtitle: ',e)"
   ]
  }
 ],
 "metadata": {
  "kernelspec": {
   "display_name": "Python 3 (ipykernel)",
   "language": "python",
   "name": "python3"
  },
  "language_info": {
   "codemirror_mode": {
    "name": "ipython",
    "version": 3
   },
   "file_extension": ".py",
   "mimetype": "text/x-python",
   "name": "python",
   "nbconvert_exporter": "python",
   "pygments_lexer": "ipython3",
   "version": "3.10.6"
  }
 },
 "nbformat": 4,
 "nbformat_minor": 5
}
