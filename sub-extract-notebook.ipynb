{
 "cells": [
  {
   "cell_type": "code",
   "execution_count": 2,
   "id": "4eeb6ec5-254b-4b8c-b885-0d28d7cb9f45",
   "metadata": {},
   "outputs": [],
   "source": [
    "import os\n",
    "import subprocess\n",
    "import argparse\n",
    "import re"
   ]
  },
  {
   "cell_type": "markdown",
   "id": "8448407d-870f-489e-ac3d-5668615c8a8d",
   "metadata": {},
   "source": [
    "### Extract eng subtitle using ffprobe"
   ]
  },
  {
   "cell_type": "code",
   "execution_count": 3,
   "id": "f93cff4f-7c44-4119-b791-11b4e644b441",
   "metadata": {},
   "outputs": [
    {
     "name": "stdout",
     "output_type": "stream",
     "text": [
      "['ffprobe', '-loglevel', 'error', '-select_streams', 's', '-show_entries', 'stream=index:stream_tags=language', '-of', 'csv=p=0', 'video_file']\n"
     ]
    }
   ],
   "source": [
    "# test block\n",
    "random = 'ffprobe -loglevel error -select_streams s -show_entries stream=index:stream_tags=language -of csv=p=0 video_file'\n",
    "print(f'{random.split()}')"
   ]
  },
  {
   "cell_type": "code",
   "execution_count": 4,
   "id": "3249b864-20a8-4b83-991a-4b7283e54863",
   "metadata": {
    "scrolled": true
   },
   "outputs": [
    {
     "name": "stdout",
     "output_type": "stream",
     "text": [
      "2,por\n",
      "3,bul\n",
      "4,hrv\n",
      "5,cze\n",
      "6,dan\n",
      "7,dut\n",
      "8,eng\n",
      "9,eng\n",
      "10,est\n",
      "11,fin\n",
      "12,fre\n",
      "13,ger\n",
      "14,gre\n",
      "15,hun\n",
      "16,ita\n",
      "17,nor\n",
      "18,por\n",
      "19,rum\n",
      "20,rus\n",
      "21,srp\n",
      "22,slv\n",
      "23,spa\n",
      "24,swe\n",
      "25,vie\n",
      "\n"
     ]
    }
   ],
   "source": [
    "video_file = 'D:\\Seeding\\Movies\\Prisoners 2013 1080p BluRay DTS x264-DON.mkv'\n",
    "\n",
    "if not os.path.exists(video_file):\n",
    "    print(\"Error: Video file not found\")\n",
    "\n",
    "command = [\n",
    "    'ffprobe',\n",
    "    '-loglevel', 'error',\n",
    "    '-select_streams', 's',\n",
    "    '-show_entries', 'stream=index:stream_tags=language',\n",
    "    '-of', 'csv=p=0',\n",
    "    f'{video_file}'\n",
    "    ]\n",
    "\n",
    "try:\n",
    "    result = subprocess.run(command, capture_output=True, text=True, check=True)\n",
    "except subprocess.CalledProcessError as e:\n",
    "    print(\"Error: \", e)\n",
    "\n",
    "# print(result.stderr.split('\\n'))\n",
    "print(f'{result.stdout}')"
   ]
  },
  {
   "cell_type": "markdown",
   "id": "bab47714-de8e-4943-bb20-14cde0b6601c",
   "metadata": {},
   "source": [
    "### Parse ffprobe output to find English subtitle track"
   ]
  },
  {
   "cell_type": "code",
   "execution_count": 5,
   "id": "43f458bf-c0db-4ac8-8c24-7efa7dcdcfd2",
   "metadata": {},
   "outputs": [
    {
     "name": "stdout",
     "output_type": "stream",
     "text": [
      "Setting the offset: 2\n",
      "Found english sub track at index 8\n",
      "Found english sub track at index 9\n"
     ]
    }
   ],
   "source": [
    "subtitle_tracks = []\n",
    "\n",
    "# storing the first index no matter the language\n",
    "for index, line in enumerate(result.stdout.split('\\n')):\n",
    "    if index == 0:\n",
    "        first_sub_track_offset = line.split(',')[0]\n",
    "        print(f'Setting the offset: {first_sub_track_offset}')\n",
    "    if 'eng' in line:\n",
    "        print(f'Found english sub track at index {line.split(\",\")[0]}')\n",
    "\n",
    "        # removing the offset in order to get the true entry\n",
    "        entry = int(line.split(\",\")[0]) - int(first_sub_track_offset)\n",
    "        subtitle_tracks.append(entry)"
   ]
  },
  {
   "cell_type": "code",
   "execution_count": 6,
   "id": "415a2971-fea5-4553-858e-57237f1df190",
   "metadata": {},
   "outputs": [
    {
     "name": "stdout",
     "output_type": "stream",
     "text": [
      "[6, 7]\n"
     ]
    }
   ],
   "source": [
    "if not subtitle_tracks:\n",
    "    print(\"No English subtitle track found\")\n",
    "else:\n",
    "    print(subtitle_tracks)"
   ]
  },
  {
   "cell_type": "markdown",
   "id": "7824716d-37ba-40bd-871f-cf9351394f27",
   "metadata": {},
   "source": [
    "### Extract subtitles from the first English subtitle track found"
   ]
  },
  {
   "cell_type": "code",
   "execution_count": 7,
   "id": "1c8a3cd6-40f8-4ecd-bae7-d519c4ad8a9c",
   "metadata": {},
   "outputs": [],
   "source": [
    "subtitle_track = subtitle_tracks[0]\n",
    "filename, _ = os.path.splitext(video_file)\n",
    "subtitle_file = f\"{filename}.srt\""
   ]
  },
  {
   "cell_type": "markdown",
   "id": "8ecc719a-8fc8-4ac6-a0ac-2868766430a9",
   "metadata": {},
   "source": [
    "### Mock of the full ffmpeg command before actually runnning it"
   ]
  },
  {
   "cell_type": "code",
   "execution_count": 8,
   "id": "64efba33-a188-4bfe-8919-0d8cbb1ea932",
   "metadata": {},
   "outputs": [
    {
     "name": "stdout",
     "output_type": "stream",
     "text": [
      "ffmpeg -i D:\\Seeding\\Movies\\Prisoners 2013 1080p BluRay DTS x264-DON.mkv -map 0:s:6 D:\\Seeding\\Movies\\Prisoners 2013 1080p BluRay DTS x264-DON.srt\n"
     ]
    }
   ],
   "source": [
    "print(f'ffmpeg -i {video_file} -map 0:s:{subtitle_track} {subtitle_file}')"
   ]
  },
  {
   "cell_type": "markdown",
   "id": "3b0f2ff3-3f48-4592-8120-d473fdb721bd",
   "metadata": {},
   "source": [
    "### Execute FFmpeg command to extract English subtitles"
   ]
  },
  {
   "cell_type": "code",
   "execution_count": 9,
   "id": "322ef545-70a9-43ec-a9ce-6deca343880d",
   "metadata": {},
   "outputs": [
    {
     "name": "stdout",
     "output_type": "stream",
     "text": [
      "English subtitles extracted successfully\n"
     ]
    }
   ],
   "source": [
    "command = [\n",
    "    'ffmpeg', '-i', video_file,\n",
    "    '-vn', '-an',\n",
    "    '-map', f'0:s:{subtitle_track}',\n",
    "    subtitle_file]\n",
    "\n",
    "try:\n",
    "    subprocess.run(['ffmpeg', '-i', video_file, '-map', f'0:s:{subtitle_track}', subtitle_file], check=True)\n",
    "    print(\"English subtitles extracted successfully\")\n",
    "except subprocess.CalledProcessError as e:\n",
    "    print(f'Error on extracting subtitle: ', e)"
   ]
  }
 ],
 "metadata": {
  "kernelspec": {
   "display_name": "Python 3 (ipykernel)",
   "language": "python",
   "name": "python3"
  },
  "language_info": {
   "codemirror_mode": {
    "name": "ipython",
    "version": 3
   },
   "file_extension": ".py",
   "mimetype": "text/x-python",
   "name": "python",
   "nbconvert_exporter": "python",
   "pygments_lexer": "ipython3",
   "version": "3.10.6"
  }
 },
 "nbformat": 4,
 "nbformat_minor": 5
}
